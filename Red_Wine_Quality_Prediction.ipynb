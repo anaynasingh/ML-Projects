{
  "nbformat": 4,
  "nbformat_minor": 0,
  "metadata": {
    "colab": {
      "name": "Red Wine Quality Prediction.ipynb",
      "provenance": [],
      "collapsed_sections": [],
      "authorship_tag": "ABX9TyOnuAs40buEcORitU4/y+rF",
      "include_colab_link": true
    },
    "kernelspec": {
      "name": "python3",
      "display_name": "Python 3"
    }
  },
  "cells": [
    {
      "cell_type": "markdown",
      "metadata": {
        "id": "view-in-github",
        "colab_type": "text"
      },
      "source": [
        "<a href=\"https://colab.research.google.com/github/anaynasingh/ML-Projects/blob/main/Red_Wine_Quality_Prediction.ipynb\" target=\"_parent\"><img src=\"https://colab.research.google.com/assets/colab-badge.svg\" alt=\"Open In Colab\"/></a>"
      ]
    },
    {
      "cell_type": "code",
      "metadata": {
        "id": "2Qk1WHa9YAcV"
      },
      "source": [
        "import numpy as np\r\n",
        "import pandas as pd\r\n",
        "import matplotlib.pyplot as plt"
      ],
      "execution_count": 1,
      "outputs": []
    },
    {
      "cell_type": "code",
      "metadata": {
        "id": "WPbRypJQYSmP"
      },
      "source": [
        "dataset = pd.read_csv(\"winequality-red.csv\")\r\n",
        "X = dataset.iloc[:, :-1].values\r\n",
        "y = dataset.iloc[:, -1].values"
      ],
      "execution_count": 2,
      "outputs": []
    },
    {
      "cell_type": "code",
      "metadata": {
        "colab": {
          "base_uri": "https://localhost:8080/"
        },
        "id": "VD5ZElh-f74j",
        "outputId": "9e25fdeb-d5d3-4190-ed8d-b6b9de902557"
      },
      "source": [
        "print(X)"
      ],
      "execution_count": 10,
      "outputs": [
        {
          "output_type": "stream",
          "text": [
            "[[ 7.4    0.7    0.    ...  3.51   0.56   9.4  ]\n",
            " [ 7.8    0.88   0.    ...  3.2    0.68   9.8  ]\n",
            " [ 7.8    0.76   0.04  ...  3.26   0.65   9.8  ]\n",
            " ...\n",
            " [ 6.3    0.51   0.13  ...  3.42   0.75  11.   ]\n",
            " [ 5.9    0.645  0.12  ...  3.57   0.71  10.2  ]\n",
            " [ 6.     0.31   0.47  ...  3.39   0.66  11.   ]]\n"
          ],
          "name": "stdout"
        }
      ]
    },
    {
      "cell_type": "code",
      "metadata": {
        "colab": {
          "base_uri": "https://localhost:8080/"
        },
        "id": "zlpNRUMAf_5T",
        "outputId": "0ca54308-3078-45ed-a834-5c32f8914484"
      },
      "source": [
        "print(y)"
      ],
      "execution_count": 11,
      "outputs": [
        {
          "output_type": "stream",
          "text": [
            "[5 5 5 ... 6 5 6]\n"
          ],
          "name": "stdout"
        }
      ]
    },
    {
      "cell_type": "code",
      "metadata": {
        "id": "U-Aqpm46aHtT"
      },
      "source": [
        "from sklearn.model_selection import train_test_split\r\n",
        "X_train, X_test, y_train, y_test = train_test_split(X, y, test_size = 0.2, random_state = 2)"
      ],
      "execution_count": 19,
      "outputs": []
    },
    {
      "cell_type": "code",
      "metadata": {
        "colab": {
          "base_uri": "https://localhost:8080/"
        },
        "id": "aZHJLJ81dEUf",
        "outputId": "2ece83e5-0952-4ae8-d293-a5d5907f800b"
      },
      "source": [
        "from sklearn.linear_model import LinearRegression\r\n",
        "regressor = LinearRegression()\r\n",
        "regressor.fit(X_train, y_train)"
      ],
      "execution_count": 20,
      "outputs": [
        {
          "output_type": "execute_result",
          "data": {
            "text/plain": [
              "LinearRegression(copy_X=True, fit_intercept=True, n_jobs=None, normalize=False)"
            ]
          },
          "metadata": {
            "tags": []
          },
          "execution_count": 20
        }
      ]
    },
    {
      "cell_type": "code",
      "metadata": {
        "colab": {
          "base_uri": "https://localhost:8080/"
        },
        "id": "fLh-uauJeBXA",
        "outputId": "5318fda2-e904-4344-9129-3fd176ff0dfa"
      },
      "source": [
        "y_pred = regressor.predict(X_test)\r\n",
        "print(np.concatenate((y_pred.reshape(len(y_pred),1), y_test.reshape(len(y_test),1) ),1))"
      ],
      "execution_count": 21,
      "outputs": [
        {
          "output_type": "stream",
          "text": [
            "[[5.934484   7.        ]\n",
            " [6.25242476 6.        ]\n",
            " [5.42705929 6.        ]\n",
            " [5.33074678 6.        ]\n",
            " [5.19719804 5.        ]\n",
            " [5.80664363 5.        ]\n",
            " [5.09710386 4.        ]\n",
            " [5.4077797  6.        ]\n",
            " [5.55236442 5.        ]\n",
            " [5.60369674 4.        ]\n",
            " [5.99607702 4.        ]\n",
            " [6.19322397 7.        ]\n",
            " [5.2492386  6.        ]\n",
            " [5.88061883 6.        ]\n",
            " [5.19092953 6.        ]\n",
            " [6.4178231  6.        ]\n",
            " [5.85264624 6.        ]\n",
            " [6.31462547 7.        ]\n",
            " [5.66859641 5.        ]\n",
            " [5.90756454 6.        ]\n",
            " [5.51177955 6.        ]\n",
            " [5.60327473 6.        ]\n",
            " [5.6256717  5.        ]\n",
            " [6.90719387 6.        ]\n",
            " [5.17810721 5.        ]\n",
            " [6.37870504 7.        ]\n",
            " [5.21311912 5.        ]\n",
            " [6.37598791 7.        ]\n",
            " [6.22029798 6.        ]\n",
            " [5.48962803 6.        ]\n",
            " [5.29080712 5.        ]\n",
            " [5.7831898  5.        ]\n",
            " [5.41750237 5.        ]\n",
            " [6.50549582 7.        ]\n",
            " [6.17314419 6.        ]\n",
            " [5.33237758 5.        ]\n",
            " [5.84529073 6.        ]\n",
            " [6.04664653 6.        ]\n",
            " [5.83779828 6.        ]\n",
            " [5.74701311 6.        ]\n",
            " [5.62436412 5.        ]\n",
            " [5.8073054  7.        ]\n",
            " [5.73077843 7.        ]\n",
            " [5.26499166 5.        ]\n",
            " [5.35499943 5.        ]\n",
            " [6.07716209 7.        ]\n",
            " [5.66736163 5.        ]\n",
            " [6.14815122 6.        ]\n",
            " [5.81288314 6.        ]\n",
            " [5.21324201 5.        ]\n",
            " [5.08722092 5.        ]\n",
            " [4.75329033 5.        ]\n",
            " [5.27348046 5.        ]\n",
            " [5.82229231 7.        ]\n",
            " [5.35273998 6.        ]\n",
            " [5.10779991 5.        ]\n",
            " [5.52729934 6.        ]\n",
            " [5.3178721  5.        ]\n",
            " [5.71827843 6.        ]\n",
            " [5.798509   6.        ]\n",
            " [4.83565239 6.        ]\n",
            " [5.26597291 6.        ]\n",
            " [5.79924107 6.        ]\n",
            " [5.11145783 6.        ]\n",
            " [5.77784103 5.        ]\n",
            " [6.1593134  6.        ]\n",
            " [6.22073731 7.        ]\n",
            " [6.40596356 6.        ]\n",
            " [6.36248759 6.        ]\n",
            " [5.96645192 5.        ]\n",
            " [5.44869394 5.        ]\n",
            " [5.42677391 6.        ]\n",
            " [5.70370255 6.        ]\n",
            " [5.24842783 6.        ]\n",
            " [5.05260489 5.        ]\n",
            " [6.09836926 6.        ]\n",
            " [5.76161138 5.        ]\n",
            " [5.94762153 5.        ]\n",
            " [6.20557016 6.        ]\n",
            " [5.15458465 5.        ]\n",
            " [5.34872674 5.        ]\n",
            " [5.87194655 6.        ]\n",
            " [5.80673001 7.        ]\n",
            " [5.71827509 6.        ]\n",
            " [6.65547287 7.        ]\n",
            " [5.70734938 6.        ]\n",
            " [5.45026314 5.        ]\n",
            " [5.34890987 6.        ]\n",
            " [5.42599232 5.        ]\n",
            " [5.63983753 6.        ]\n",
            " [6.35693983 6.        ]\n",
            " [5.25891447 5.        ]\n",
            " [5.34391715 5.        ]\n",
            " [5.63309432 6.        ]\n",
            " [5.31421931 6.        ]\n",
            " [6.0949573  4.        ]\n",
            " [5.1538901  5.        ]\n",
            " [5.45136905 5.        ]\n",
            " [5.35958034 5.        ]\n",
            " [5.2311599  5.        ]\n",
            " [5.72378211 6.        ]\n",
            " [5.24766351 5.        ]\n",
            " [5.33961566 4.        ]\n",
            " [5.11719873 5.        ]\n",
            " [5.89081478 6.        ]\n",
            " [6.99042845 6.        ]\n",
            " [5.813413   5.        ]\n",
            " [5.21141264 5.        ]\n",
            " [5.78823526 5.        ]\n",
            " [5.98407538 6.        ]\n",
            " [6.17245545 7.        ]\n",
            " [5.56223989 5.        ]\n",
            " [5.57805736 5.        ]\n",
            " [5.45913404 5.        ]\n",
            " [6.22543193 6.        ]\n",
            " [6.13974551 6.        ]\n",
            " [5.32977618 5.        ]\n",
            " [6.04721073 6.        ]\n",
            " [5.72370591 6.        ]\n",
            " [6.18823067 6.        ]\n",
            " [5.48265963 6.        ]\n",
            " [5.73613689 6.        ]\n",
            " [5.77784103 5.        ]\n",
            " [5.53220598 6.        ]\n",
            " [6.52196081 7.        ]\n",
            " [5.69372663 6.        ]\n",
            " [7.47395643 5.        ]\n",
            " [5.92183615 5.        ]\n",
            " [5.63462113 6.        ]\n",
            " [5.73065591 5.        ]\n",
            " [6.20708196 6.        ]\n",
            " [5.17566084 5.        ]\n",
            " [6.40776449 7.        ]\n",
            " [5.58096195 6.        ]\n",
            " [6.20275687 5.        ]\n",
            " [4.88429465 5.        ]\n",
            " [5.96896779 6.        ]\n",
            " [5.94762153 5.        ]\n",
            " [5.41163474 6.        ]\n",
            " [6.47451639 6.        ]\n",
            " [6.24962374 6.        ]\n",
            " [6.06517459 6.        ]\n",
            " [5.80010486 6.        ]\n",
            " [6.28954373 6.        ]\n",
            " [5.38829359 4.        ]\n",
            " [5.51057237 5.        ]\n",
            " [5.85632887 6.        ]\n",
            " [5.57381357 6.        ]\n",
            " [5.8663688  5.        ]\n",
            " [5.60278006 6.        ]\n",
            " [5.05146153 5.        ]\n",
            " [6.00924419 6.        ]\n",
            " [5.80240493 6.        ]\n",
            " [5.47443444 6.        ]\n",
            " [6.0117889  6.        ]\n",
            " [5.72602551 6.        ]\n",
            " [6.40515111 6.        ]\n",
            " [5.57480246 5.        ]\n",
            " [5.34220965 6.        ]\n",
            " [5.55801875 6.        ]\n",
            " [5.15992316 5.        ]\n",
            " [5.45001272 5.        ]\n",
            " [5.32375432 6.        ]\n",
            " [5.24895579 5.        ]\n",
            " [5.68910721 6.        ]\n",
            " [6.66136316 6.        ]\n",
            " [6.4847272  6.        ]\n",
            " [5.71681107 6.        ]\n",
            " [4.74073221 5.        ]\n",
            " [5.03418064 6.        ]\n",
            " [6.54540626 7.        ]\n",
            " [6.34257035 6.        ]\n",
            " [6.95979443 7.        ]\n",
            " [5.62543676 6.        ]\n",
            " [5.97495335 6.        ]\n",
            " [6.37598791 7.        ]\n",
            " [5.07901972 5.        ]\n",
            " [6.05838851 5.        ]\n",
            " [4.97561437 6.        ]\n",
            " [6.29118584 6.        ]\n",
            " [4.80445788 4.        ]\n",
            " [5.98385814 6.        ]\n",
            " [5.10890103 5.        ]\n",
            " [6.0224206  7.        ]\n",
            " [5.62102274 6.        ]\n",
            " [5.34591059 5.        ]\n",
            " [5.3655342  6.        ]\n",
            " [5.04797979 5.        ]\n",
            " [6.00949386 6.        ]\n",
            " [5.95016201 5.        ]\n",
            " [5.33487682 5.        ]\n",
            " [5.52729934 6.        ]\n",
            " [5.27825781 5.        ]\n",
            " [5.08810955 5.        ]\n",
            " [5.13691402 5.        ]\n",
            " [5.57740289 6.        ]\n",
            " [5.50642703 5.        ]\n",
            " [5.07507564 6.        ]\n",
            " [5.53179806 5.        ]\n",
            " [6.52117748 8.        ]\n",
            " [5.42597974 7.        ]\n",
            " [5.52339505 5.        ]\n",
            " [5.13189497 5.        ]\n",
            " [5.30987665 6.        ]\n",
            " [4.9319984  4.        ]\n",
            " [5.28226719 5.        ]\n",
            " [6.07151456 6.        ]\n",
            " [6.46444367 7.        ]\n",
            " [6.22388292 5.        ]\n",
            " [5.24346832 5.        ]\n",
            " [6.77106501 8.        ]\n",
            " [5.30158811 6.        ]\n",
            " [5.55661643 6.        ]\n",
            " [5.31143347 5.        ]\n",
            " [6.39979641 7.        ]\n",
            " [6.30757223 7.        ]\n",
            " [6.07566116 6.        ]\n",
            " [5.60945476 6.        ]\n",
            " [5.61925753 5.        ]\n",
            " [5.97485291 5.        ]\n",
            " [4.61077358 6.        ]\n",
            " [5.84502912 5.        ]\n",
            " [5.12349244 5.        ]\n",
            " [6.13222857 6.        ]\n",
            " [5.41526486 6.        ]\n",
            " [5.4670703  5.        ]\n",
            " [4.91344521 5.        ]\n",
            " [5.7523446  6.        ]\n",
            " [5.44627132 6.        ]\n",
            " [4.96183356 6.        ]\n",
            " [5.64374154 6.        ]\n",
            " [5.0086307  5.        ]\n",
            " [4.95741243 5.        ]\n",
            " [4.86113194 5.        ]\n",
            " [5.76317649 6.        ]\n",
            " [5.15610504 6.        ]\n",
            " [5.34872501 5.        ]\n",
            " [6.18291495 6.        ]\n",
            " [5.56076574 6.        ]\n",
            " [5.28282501 5.        ]\n",
            " [6.48097743 6.        ]\n",
            " [5.37534903 5.        ]\n",
            " [5.38753763 6.        ]\n",
            " [6.12038893 8.        ]\n",
            " [6.0027411  7.        ]\n",
            " [6.4305783  5.        ]\n",
            " [4.9740552  5.        ]\n",
            " [5.81959577 6.        ]\n",
            " [5.23957936 5.        ]\n",
            " [6.42645125 7.        ]\n",
            " [5.42280638 5.        ]\n",
            " [4.75329033 5.        ]\n",
            " [5.41546305 5.        ]\n",
            " [5.18007125 5.        ]\n",
            " [6.39958856 7.        ]\n",
            " [6.20708196 6.        ]\n",
            " [4.99133576 5.        ]\n",
            " [4.95347898 6.        ]\n",
            " [5.84438538 6.        ]\n",
            " [5.76795508 5.        ]\n",
            " [5.91131165 6.        ]\n",
            " [5.4099513  6.        ]\n",
            " [4.61897644 5.        ]\n",
            " [5.19628184 6.        ]\n",
            " [5.68512772 6.        ]\n",
            " [6.37264452 5.        ]\n",
            " [5.20024798 5.        ]\n",
            " [5.33285646 6.        ]\n",
            " [5.43905248 5.        ]\n",
            " [6.12235499 6.        ]\n",
            " [5.74395666 5.        ]\n",
            " [5.73905098 6.        ]\n",
            " [5.0782643  6.        ]\n",
            " [6.30073198 7.        ]\n",
            " [5.41822987 5.        ]\n",
            " [5.13097838 5.        ]\n",
            " [5.22457723 5.        ]\n",
            " [5.1246945  5.        ]\n",
            " [5.70494492 6.        ]\n",
            " [5.3091789  5.        ]\n",
            " [5.8133598  6.        ]\n",
            " [5.60973066 5.        ]\n",
            " [5.73672908 6.        ]\n",
            " [5.90393123 6.        ]\n",
            " [5.8674932  6.        ]\n",
            " [5.1246945  5.        ]\n",
            " [5.39540379 5.        ]\n",
            " [6.25242476 6.        ]\n",
            " [6.23094416 6.        ]\n",
            " [6.58288431 8.        ]\n",
            " [6.51262093 7.        ]\n",
            " [6.2537197  7.        ]\n",
            " [5.14692383 6.        ]\n",
            " [5.02609671 5.        ]\n",
            " [5.43575652 7.        ]\n",
            " [5.07064131 6.        ]\n",
            " [6.85390334 7.        ]\n",
            " [5.40033886 6.        ]\n",
            " [5.04804692 5.        ]\n",
            " [5.4026206  6.        ]\n",
            " [6.15685029 7.        ]\n",
            " [5.51885597 6.        ]\n",
            " [5.83750377 7.        ]\n",
            " [5.33393814 6.        ]\n",
            " [6.18563953 6.        ]\n",
            " [6.15166196 6.        ]\n",
            " [5.84268269 7.        ]\n",
            " [4.88820138 6.        ]\n",
            " [5.01371891 5.        ]\n",
            " [6.5599534  7.        ]\n",
            " [5.32423577 5.        ]\n",
            " [5.25618987 5.        ]\n",
            " [6.23172593 8.        ]\n",
            " [4.73228698 5.        ]\n",
            " [5.03301703 5.        ]\n",
            " [5.13517461 4.        ]\n",
            " [5.02574705 5.        ]\n",
            " [4.77383985 3.        ]\n",
            " [5.47443444 6.        ]\n",
            " [5.07507564 6.        ]]\n"
          ],
          "name": "stdout"
        }
      ]
    },
    {
      "cell_type": "code",
      "metadata": {
        "colab": {
          "base_uri": "https://localhost:8080/",
          "height": 299
        },
        "id": "qmivbxuxj9Uv",
        "outputId": "e46334c4-3a19-4fb2-d7c8-6fffb260409a"
      },
      "source": [
        "plt.plot(y_pred, y_test)\r\n",
        "plt.xlabel('Predicted Quality based on various ingredients/factors')\r\n",
        "plt.ylabel('Actual Quality based on various ingredients/factors')\r\n",
        "plt.title('Comparison between Predicted Quality and Actual Quality of Red Wine')\r\n",
        "plt.xlim(3,8)\r\n",
        "plt.ylim(3,8)\r\n",
        "plt.show()"
      ],
      "execution_count": 24,
      "outputs": [
        {
          "output_type": "display_data",
          "data": {
            "image/png": "[encoded data removed]",
            "text/plain": [
              "<Figure size 432x288 with 1 Axes>"
            ]
          },
          "metadata": {
            "tags": [],
            "needs_background": "light"
          }
        }
      ]
    }
  ]
}